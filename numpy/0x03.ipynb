{
 "cells": [
  {
   "cell_type": "code",
   "execution_count": 1,
   "metadata": {},
   "outputs": [],
   "source": [
    "# arithmetic operations with numpy\n",
    "import numpy as np"
   ]
  },
  {
   "cell_type": "code",
   "execution_count": 6,
   "metadata": {},
   "outputs": [],
   "source": [
    "# create 2, diferent dimesion arrays\n",
    "x = np.array([x for x in range(4)])\n",
    "y = np.array([x for x in range(8)]).reshape(2,-1)"
   ]
  },
  {
   "cell_type": "code",
   "execution_count": 7,
   "metadata": {},
   "outputs": [
    {
     "name": "stdout",
     "output_type": "stream",
     "text": [
      "[[ 0  2  4  6]\n",
      " [ 4  6  8 10]]\n"
     ]
    }
   ],
   "source": [
    "# addition\n",
    "sum = np.add(x,y)\n",
    "print(sum)"
   ]
  },
  {
   "cell_type": "code",
   "execution_count": 9,
   "metadata": {},
   "outputs": [
    {
     "name": "stdout",
     "output_type": "stream",
     "text": [
      "[[0 0 0 0]\n",
      " [4 4 4 4]]\n"
     ]
    }
   ],
   "source": [
    "# subtraction\n",
    "sub = np.subtract(y,x)\n",
    "print(sub)"
   ]
  },
  {
   "cell_type": "code",
   "execution_count": 11,
   "metadata": {},
   "outputs": [
    {
     "name": "stdout",
     "output_type": "stream",
     "text": [
      "[[ 0  1  4  9]\n",
      " [ 0  5 12 21]]\n"
     ]
    }
   ],
   "source": [
    "# multiplication\n",
    "mult = np.multiply(x,y)\n",
    "print(mult)"
   ]
  },
  {
   "cell_type": "code",
   "execution_count": 13,
   "metadata": {},
   "outputs": [
    {
     "name": "stdout",
     "output_type": "stream",
     "text": [
      "[[       nan 1.         1.         1.        ]\n",
      " [       inf 5.         3.         2.33333333]]\n"
     ]
    },
    {
     "name": "stderr",
     "output_type": "stream",
     "text": [
      "C:\\Users\\Administrator\\AppData\\Local\\Temp\\ipykernel_3168\\3235767940.py:2: RuntimeWarning: divide by zero encountered in divide\n",
      "  div = np.divide(y,x)\n",
      "C:\\Users\\Administrator\\AppData\\Local\\Temp\\ipykernel_3168\\3235767940.py:2: RuntimeWarning: invalid value encountered in divide\n",
      "  div = np.divide(y,x)\n"
     ]
    }
   ],
   "source": [
    "# division\n",
    "div = np.divide(y,x)\n",
    "print(div)"
   ]
  },
  {
   "cell_type": "code",
   "execution_count": 14,
   "metadata": {},
   "outputs": [
    {
     "name": "stdout",
     "output_type": "stream",
     "text": [
      "[0 1 4 9]\n"
     ]
    }
   ],
   "source": [
    "# raise to a power\n",
    "power2 = np.power(x,2)\n",
    "print(power2)"
   ]
  },
  {
   "cell_type": "code",
   "execution_count": 15,
   "metadata": {},
   "outputs": [
    {
     "name": "stdout",
     "output_type": "stream",
     "text": [
      "[[   1    1    4   27]\n",
      " [   0    1   64 2187]]\n"
     ]
    }
   ],
   "source": [
    "# raise an nd array to an ndarray\n",
    "ndpower = np.power(x,y)\n",
    "print(ndpower)"
   ]
  }
 ],
 "metadata": {
  "kernelspec": {
   "display_name": "Python 3",
   "language": "python",
   "name": "python3"
  },
  "language_info": {
   "codemirror_mode": {
    "name": "ipython",
    "version": 3
   },
   "file_extension": ".py",
   "mimetype": "text/x-python",
   "name": "python",
   "nbconvert_exporter": "python",
   "pygments_lexer": "ipython3",
   "version": "3.11.4"
  },
  "orig_nbformat": 4
 },
 "nbformat": 4,
 "nbformat_minor": 2
}
