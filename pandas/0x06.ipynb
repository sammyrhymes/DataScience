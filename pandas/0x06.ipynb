{
 "cells": [
  {
   "cell_type": "code",
   "execution_count": 2,
   "metadata": {},
   "outputs": [],
   "source": [
    "import pandas as pd"
   ]
  },
  {
   "cell_type": "code",
   "execution_count": 4,
   "metadata": {},
   "outputs": [
    {
     "data": {
      "text/html": [
       "<div>\n",
       "<style scoped>\n",
       "    .dataframe tbody tr th:only-of-type {\n",
       "        vertical-align: middle;\n",
       "    }\n",
       "\n",
       "    .dataframe tbody tr th {\n",
       "        vertical-align: top;\n",
       "    }\n",
       "\n",
       "    .dataframe thead th {\n",
       "        text-align: right;\n",
       "    }\n",
       "</style>\n",
       "<table border=\"1\" class=\"dataframe\">\n",
       "  <thead>\n",
       "    <tr style=\"text-align: right;\">\n",
       "      <th></th>\n",
       "      <th>order_id</th>\n",
       "      <th>quantity</th>\n",
       "      <th>item_name</th>\n",
       "      <th>choice_description</th>\n",
       "      <th>item_price</th>\n",
       "    </tr>\n",
       "  </thead>\n",
       "  <tbody>\n",
       "    <tr>\n",
       "      <th>0</th>\n",
       "      <td>1</td>\n",
       "      <td>1</td>\n",
       "      <td>Chips and Fresh Tomato Salsa</td>\n",
       "      <td>NaN</td>\n",
       "      <td>$2.39</td>\n",
       "    </tr>\n",
       "    <tr>\n",
       "      <th>1</th>\n",
       "      <td>1</td>\n",
       "      <td>1</td>\n",
       "      <td>Izze</td>\n",
       "      <td>[Clementine]</td>\n",
       "      <td>$3.39</td>\n",
       "    </tr>\n",
       "    <tr>\n",
       "      <th>2</th>\n",
       "      <td>1</td>\n",
       "      <td>1</td>\n",
       "      <td>Nantucket Nectar</td>\n",
       "      <td>[Apple]</td>\n",
       "      <td>$3.39</td>\n",
       "    </tr>\n",
       "    <tr>\n",
       "      <th>3</th>\n",
       "      <td>1</td>\n",
       "      <td>1</td>\n",
       "      <td>Chips and Tomatillo-Green Chili Salsa</td>\n",
       "      <td>NaN</td>\n",
       "      <td>$2.39</td>\n",
       "    </tr>\n",
       "    <tr>\n",
       "      <th>4</th>\n",
       "      <td>2</td>\n",
       "      <td>2</td>\n",
       "      <td>Chicken Bowl</td>\n",
       "      <td>[Tomatillo-Red Chili Salsa (Hot), [Black Beans...</td>\n",
       "      <td>$16.98</td>\n",
       "    </tr>\n",
       "  </tbody>\n",
       "</table>\n",
       "</div>"
      ],
      "text/plain": [
       "   order_id  quantity                              item_name  \\\n",
       "0         1         1           Chips and Fresh Tomato Salsa   \n",
       "1         1         1                                   Izze   \n",
       "2         1         1                       Nantucket Nectar   \n",
       "3         1         1  Chips and Tomatillo-Green Chili Salsa   \n",
       "4         2         2                           Chicken Bowl   \n",
       "\n",
       "                                  choice_description item_price  \n",
       "0                                                NaN     $2.39   \n",
       "1                                       [Clementine]     $3.39   \n",
       "2                                            [Apple]     $3.39   \n",
       "3                                                NaN     $2.39   \n",
       "4  [Tomatillo-Red Chili Salsa (Hot), [Black Beans...    $16.98   "
      ]
     },
     "execution_count": 4,
     "metadata": {},
     "output_type": "execute_result"
    }
   ],
   "source": [
    "chipotle_df = pd.read_csv('../datasets/Chipotle Sales EDA/chipotle.tsv', sep=\"\\t\")\n",
    "chipotle_df.head()"
   ]
  },
  {
   "cell_type": "code",
   "execution_count": 22,
   "metadata": {},
   "outputs": [
    {
     "data": {
      "text/plain": [
       "item_name     Chips and Guacamole\n",
       "item_price                 $4.45 \n",
       "quantity                      349\n",
       "Name: 129, dtype: object"
      ]
     },
     "execution_count": 22,
     "metadata": {},
     "output_type": "execute_result"
    }
   ],
   "source": [
    "item_revenue = chipotle_df.groupby(['item_name', 'item_price'])[\"quantity\"].sum().reset_index()\n",
    "item_revenue = item_revenue.sort_values(by='quantity', ascending=False)\n",
    "most_ordered = item_revenue.iloc[0]\n",
    "most_ordered\n"
   ]
  },
  {
   "cell_type": "code",
   "execution_count": 23,
   "metadata": {},
   "outputs": [
    {
     "data": {
      "text/plain": [
       "'$4.45 $4.45 $4.45 $4.45 $4.45 $4.45 $4.45 $4.45 $4.45 $4.45 $4.45 $4.45 $4.45 $4.45 $4.45 $4.45 $4.45 $4.45 $4.45 $4.45 $4.45 $4.45 $4.45 $4.45 $4.45 $4.45 $4.45 $4.45 $4.45 $4.45 $4.45 $4.45 $4.45 $4.45 $4.45 $4.45 $4.45 $4.45 $4.45 $4.45 $4.45 $4.45 $4.45 $4.45 $4.45 $4.45 $4.45 $4.45 $4.45 $4.45 $4.45 $4.45 $4.45 $4.45 $4.45 $4.45 $4.45 $4.45 $4.45 $4.45 $4.45 $4.45 $4.45 $4.45 $4.45 $4.45 $4.45 $4.45 $4.45 $4.45 $4.45 $4.45 $4.45 $4.45 $4.45 $4.45 $4.45 $4.45 $4.45 $4.45 $4.45 $4.45 $4.45 $4.45 $4.45 $4.45 $4.45 $4.45 $4.45 $4.45 $4.45 $4.45 $4.45 $4.45 $4.45 $4.45 $4.45 $4.45 $4.45 $4.45 $4.45 $4.45 $4.45 $4.45 $4.45 $4.45 $4.45 $4.45 $4.45 $4.45 $4.45 $4.45 $4.45 $4.45 $4.45 $4.45 $4.45 $4.45 $4.45 $4.45 $4.45 $4.45 $4.45 $4.45 $4.45 $4.45 $4.45 $4.45 $4.45 $4.45 $4.45 $4.45 $4.45 $4.45 $4.45 $4.45 $4.45 $4.45 $4.45 $4.45 $4.45 $4.45 $4.45 $4.45 $4.45 $4.45 $4.45 $4.45 $4.45 $4.45 $4.45 $4.45 $4.45 $4.45 $4.45 $4.45 $4.45 $4.45 $4.45 $4.45 $4.45 $4.45 $4.45 $4.45 $4.45 $4.45 $4.45 $4.45 $4.45 $4.45 $4.45 $4.45 $4.45 $4.45 $4.45 $4.45 $4.45 $4.45 $4.45 $4.45 $4.45 $4.45 $4.45 $4.45 $4.45 $4.45 $4.45 $4.45 $4.45 $4.45 $4.45 $4.45 $4.45 $4.45 $4.45 $4.45 $4.45 $4.45 $4.45 $4.45 $4.45 $4.45 $4.45 $4.45 $4.45 $4.45 $4.45 $4.45 $4.45 $4.45 $4.45 $4.45 $4.45 $4.45 $4.45 $4.45 $4.45 $4.45 $4.45 $4.45 $4.45 $4.45 $4.45 $4.45 $4.45 $4.45 $4.45 $4.45 $4.45 $4.45 $4.45 $4.45 $4.45 $4.45 $4.45 $4.45 $4.45 $4.45 $4.45 $4.45 $4.45 $4.45 $4.45 $4.45 $4.45 $4.45 $4.45 $4.45 $4.45 $4.45 $4.45 $4.45 $4.45 $4.45 $4.45 $4.45 $4.45 $4.45 $4.45 $4.45 $4.45 $4.45 $4.45 $4.45 $4.45 $4.45 $4.45 $4.45 $4.45 $4.45 $4.45 $4.45 $4.45 $4.45 $4.45 $4.45 $4.45 $4.45 $4.45 $4.45 $4.45 $4.45 $4.45 $4.45 $4.45 $4.45 $4.45 $4.45 $4.45 $4.45 $4.45 $4.45 $4.45 $4.45 $4.45 $4.45 $4.45 $4.45 $4.45 $4.45 $4.45 $4.45 $4.45 $4.45 $4.45 $4.45 $4.45 $4.45 $4.45 $4.45 $4.45 $4.45 $4.45 $4.45 $4.45 $4.45 $4.45 $4.45 $4.45 $4.45 $4.45 $4.45 $4.45 $4.45 $4.45 $4.45 $4.45 $4.45 $4.45 $4.45 $4.45 $4.45 $4.45 $4.45 $4.45 $4.45 $4.45 $4.45 $4.45 $4.45 $4.45 $4.45 $4.45 $4.45 $4.45 $4.45 $4.45 $4.45 $4.45 '"
      ]
     },
     "execution_count": 23,
     "metadata": {},
     "output_type": "execute_result"
    }
   ],
   "source": [
    "Top_selling_total_revenue = most_ordered.loc['item_price'] * most_ordered.loc['quantity']\n",
    "Top_selling_total_revenue"
   ]
  }
 ],
 "metadata": {
  "kernelspec": {
   "display_name": "Python 3",
   "language": "python",
   "name": "python3"
  },
  "language_info": {
   "codemirror_mode": {
    "name": "ipython",
    "version": 3
   },
   "file_extension": ".py",
   "mimetype": "text/x-python",
   "name": "python",
   "nbconvert_exporter": "python",
   "pygments_lexer": "ipython3",
   "version": "3.11.4"
  },
  "orig_nbformat": 4
 },
 "nbformat": 4,
 "nbformat_minor": 2
}
